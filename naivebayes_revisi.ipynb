{
 "cells": [
  {
   "cell_type": "markdown",
   "id": "09b1bb0d-0439-41d3-99ff-fd4f4c7e5a1e",
   "metadata": {},
   "source": [
    "Klasifikasi Perumahan Surabaya dengan Menggunakan Algoritma Naive Bayes"
   ]
  },
  {
   "cell_type": "code",
   "execution_count": 1266,
   "id": "f023923f-d002-4020-a3f8-39597d116ae0",
   "metadata": {},
   "outputs": [],
   "source": [
    "import pandas as pd\n",
    "import numpy as np\n",
    "from sklearn.naive_bayes import GaussianNB \n",
    "from sklearn import metrics\n",
    "from sklearn.preprocessing import StandardScaler\n",
    "from sklearn.metrics import classification_report\n",
    "from sklearn.metrics import ConfusionMatrixDisplay\n",
    "from sklearn.model_selection import cross_val_predict, StratifiedKFold\n",
    "from sklearn.metrics import accuracy_score"
   ]
  },
  {
   "cell_type": "code",
   "execution_count": 1245,
   "id": "8e42d996-510a-4a98-9b2b-31d5c8acb4b7",
   "metadata": {
    "scrolled": true
   },
   "outputs": [
    {
     "data": {
      "text/html": [
       "<div>\n",
       "<style scoped>\n",
       "    .dataframe tbody tr th:only-of-type {\n",
       "        vertical-align: middle;\n",
       "    }\n",
       "\n",
       "    .dataframe tbody tr th {\n",
       "        vertical-align: top;\n",
       "    }\n",
       "\n",
       "    .dataframe thead th {\n",
       "        text-align: right;\n",
       "    }\n",
       "</style>\n",
       "<table border=\"1\" class=\"dataframe\">\n",
       "  <thead>\n",
       "    <tr style=\"text-align: right;\">\n",
       "      <th></th>\n",
       "      <th>Kamar Tidur</th>\n",
       "      <th>Kamar Mandi</th>\n",
       "      <th>Luas Tanah</th>\n",
       "      <th>Luas Bangunan</th>\n",
       "      <th>Jumlah Lantai</th>\n",
       "      <th>Price</th>\n",
       "      <th>Label</th>\n",
       "    </tr>\n",
       "  </thead>\n",
       "  <tbody>\n",
       "    <tr>\n",
       "      <th>0</th>\n",
       "      <td>2</td>\n",
       "      <td>1</td>\n",
       "      <td>50</td>\n",
       "      <td>91</td>\n",
       "      <td>1</td>\n",
       "      <td>600000000</td>\n",
       "      <td>Low</td>\n",
       "    </tr>\n",
       "    <tr>\n",
       "      <th>1</th>\n",
       "      <td>2</td>\n",
       "      <td>1</td>\n",
       "      <td>67</td>\n",
       "      <td>67</td>\n",
       "      <td>2</td>\n",
       "      <td>600000000</td>\n",
       "      <td>Low</td>\n",
       "    </tr>\n",
       "    <tr>\n",
       "      <th>2</th>\n",
       "      <td>2</td>\n",
       "      <td>1</td>\n",
       "      <td>91</td>\n",
       "      <td>50</td>\n",
       "      <td>1</td>\n",
       "      <td>600000000</td>\n",
       "      <td>Low</td>\n",
       "    </tr>\n",
       "    <tr>\n",
       "      <th>3</th>\n",
       "      <td>7</td>\n",
       "      <td>1</td>\n",
       "      <td>91</td>\n",
       "      <td>91</td>\n",
       "      <td>1</td>\n",
       "      <td>600000000</td>\n",
       "      <td>Low</td>\n",
       "    </tr>\n",
       "    <tr>\n",
       "      <th>4</th>\n",
       "      <td>2</td>\n",
       "      <td>1</td>\n",
       "      <td>60</td>\n",
       "      <td>60</td>\n",
       "      <td>1</td>\n",
       "      <td>650000000</td>\n",
       "      <td>Low</td>\n",
       "    </tr>\n",
       "  </tbody>\n",
       "</table>\n",
       "</div>"
      ],
      "text/plain": [
       "   Kamar Tidur  Kamar Mandi  Luas Tanah  Luas Bangunan  Jumlah Lantai  \\\n",
       "0            2            1          50             91              1   \n",
       "1            2            1          67             67              2   \n",
       "2            2            1          91             50              1   \n",
       "3            7            1          91             91              1   \n",
       "4            2            1          60             60              1   \n",
       "\n",
       "       Price Label  \n",
       "0  600000000   Low  \n",
       "1  600000000   Low  \n",
       "2  600000000   Low  \n",
       "3  600000000   Low  \n",
       "4  650000000   Low  "
      ]
     },
     "execution_count": 1245,
     "metadata": {},
     "output_type": "execute_result"
    }
   ],
   "source": [
    "# read csv file perumahan_surabaya\n",
    "df = pd.read_csv('data_per_surabaya.csv')\n",
    "df.head()"
   ]
  },
  {
   "cell_type": "code",
   "execution_count": 1268,
   "id": "da611474-315f-4001-a615-b58fc0d05a87",
   "metadata": {},
   "outputs": [],
   "source": [
    "x_true = df.iloc[:,:6].values\n",
    "y_true = df.iloc[:,6].values #data target"
   ]
  },
  {
   "cell_type": "code",
   "execution_count": 1247,
   "id": "6c4989b7-1300-4c4a-beb2-4497193d7607",
   "metadata": {},
   "outputs": [
    {
     "data": {
      "text/plain": [
       "array([[         2,          1,         50,         91,          1,\n",
       "         600000000],\n",
       "       [         2,          1,         67,         67,          2,\n",
       "         600000000],\n",
       "       [         2,          1,         91,         50,          1,\n",
       "         600000000],\n",
       "       ...,\n",
       "       [         3,          2,        119,        112,          2,\n",
       "        3250000000],\n",
       "       [         3,          1,        119,        112,          2,\n",
       "        3250000000],\n",
       "       [         3,          1,        119,        112,          2,\n",
       "        3250000000]], dtype=int64)"
      ]
     },
     "execution_count": 1247,
     "metadata": {},
     "output_type": "execute_result"
    }
   ],
   "source": [
    "x_true"
   ]
  },
  {
   "cell_type": "code",
   "execution_count": 1248,
   "id": "11683e57-7547-4bcc-8ac7-a1b4c07246ca",
   "metadata": {},
   "outputs": [
    {
     "data": {
      "text/plain": [
       "array(['Low', 'Low', 'Low', 'Low', 'Low', 'Low', 'Low', 'Low', 'Low',\n",
       "       'Low', 'Low', 'Low', 'Low', 'Low', 'Low', 'Low', 'Low', 'Low',\n",
       "       'Low', 'Low', 'Low', 'Low', 'Low', 'Low', 'Low', 'Low', 'Low',\n",
       "       'Low', 'Low', 'Low', 'Low', 'Low', 'Low', 'Low', 'Low', 'Low',\n",
       "       'Low', 'Low', 'Low', 'Low', 'Low', 'Low', 'Low', 'Low', 'Low',\n",
       "       'Low', 'Low', 'Low', 'Low', 'Low', 'Low', 'Low', 'Low', 'Low',\n",
       "       'Low', 'Low', 'Low', 'Low', 'Low', 'Low', 'Low', 'Low', 'Low',\n",
       "       'Low', 'Low', 'Low', 'Low', 'Low', 'Low', 'Low', 'Low', 'Low',\n",
       "       'Low', 'Low', 'Low', 'Low', 'Low', 'Low', 'Low', 'Low', 'Low',\n",
       "       'Low', 'Low', 'Low', 'Low', 'Low', 'Low', 'Low', 'Low', 'Low',\n",
       "       'Low', 'Low', 'Low', 'Low', 'Low', 'Low', 'Low', 'Low', 'Low',\n",
       "       'Low', 'Low', 'Low', 'Low', 'Low', 'Low', 'Low', 'Low', 'Low',\n",
       "       'Low', 'Low', 'Low', 'Low', 'Low', 'Low', 'Low', 'Low', 'Low',\n",
       "       'Low', 'Low', 'Low', 'Low', 'Low', 'Low', 'Low', 'Low', 'Low',\n",
       "       'Low', 'Low', 'Low', 'Low', 'Low', 'Low', 'Low', 'Low', 'Low',\n",
       "       'Low', 'Low', 'Low', 'Low', 'Low', 'Low', 'Low', 'Low', 'Low',\n",
       "       'Low', 'Low', 'Low', 'Low', 'Low', 'Low', 'Low', 'Low', 'Low',\n",
       "       'Low', 'Low', 'Low', 'Low', 'Low', 'Low', 'Low', 'Low', 'Low',\n",
       "       'Low', 'Low', 'Low', 'Low', 'Low', 'Low', 'Low', 'Low', 'Low',\n",
       "       'Low', 'Low', 'Low', 'Low', 'Low', 'Low', 'Low', 'Low', 'Low',\n",
       "       'Low', 'Low', 'Low', 'Low', 'Low', 'Low', 'Low', 'Low', 'Low',\n",
       "       'Low', 'Low', 'Low', 'Low', 'Low', 'Low', 'Low', 'Low', 'Low',\n",
       "       'Low', 'Low', 'Low', 'Low', 'Low', 'Low', 'Low', 'Low', 'Medium',\n",
       "       'Medium', 'Medium', 'Medium', 'Medium', 'Medium', 'Medium',\n",
       "       'Medium', 'Medium', 'Medium', 'Medium', 'Medium', 'Medium',\n",
       "       'Medium', 'Medium', 'Medium', 'Medium', 'Medium', 'Medium',\n",
       "       'Medium', 'Medium', 'Medium', 'Medium', 'Medium', 'Medium',\n",
       "       'Medium', 'Medium', 'Medium', 'Medium', 'Medium', 'Medium',\n",
       "       'Medium', 'Medium', 'Medium', 'Medium', 'Medium', 'Medium',\n",
       "       'Medium', 'Medium', 'Medium', 'Medium', 'Medium', 'Medium',\n",
       "       'Medium', 'Medium', 'Medium', 'Medium', 'Medium', 'Medium',\n",
       "       'Medium', 'Medium', 'Medium', 'Medium', 'Medium', 'Medium',\n",
       "       'Medium', 'Medium', 'Medium', 'Medium', 'Medium', 'Medium',\n",
       "       'Medium', 'Medium', 'Medium', 'Medium', 'Medium', 'Medium',\n",
       "       'Medium', 'Medium', 'Medium', 'Medium', 'Medium', 'Medium',\n",
       "       'Medium', 'Medium', 'Medium', 'Medium', 'Medium', 'Medium',\n",
       "       'Medium', 'Medium', 'Medium', 'Medium', 'Medium', 'Medium',\n",
       "       'Medium', 'Medium', 'Medium', 'Medium', 'Medium', 'Medium',\n",
       "       'Medium', 'Medium', 'Medium', 'Medium', 'Medium', 'Medium',\n",
       "       'Medium', 'Medium', 'Medium', 'Medium', 'Medium', 'Medium',\n",
       "       'Medium', 'Medium', 'Medium', 'Medium', 'Medium', 'Medium',\n",
       "       'Medium', 'Medium', 'Medium', 'Medium', 'Medium', 'Medium',\n",
       "       'Medium', 'Medium', 'Medium', 'Medium', 'Medium', 'Medium',\n",
       "       'Medium', 'Medium', 'Medium', 'Medium', 'Medium', 'Medium',\n",
       "       'Medium', 'Medium', 'Medium', 'Medium', 'Medium', 'Medium',\n",
       "       'Medium', 'Medium', 'Medium', 'Medium', 'Medium', 'Medium',\n",
       "       'Medium', 'Medium', 'Medium', 'Medium', 'Medium', 'Medium',\n",
       "       'Medium', 'Medium', 'Medium', 'Medium', 'Medium', 'Medium',\n",
       "       'Medium', 'Medium', 'Medium', 'Medium', 'Medium', 'Medium',\n",
       "       'Medium', 'Medium', 'Medium', 'Medium', 'Medium', 'Medium',\n",
       "       'Medium', 'Medium', 'Medium', 'Medium', 'Medium', 'Medium',\n",
       "       'Medium', 'Medium', 'Medium', 'Medium', 'Medium', 'Medium',\n",
       "       'Medium', 'Medium', 'Medium', 'Medium', 'Medium', 'Medium',\n",
       "       'Medium', 'Medium', 'Medium', 'Medium', 'Medium', 'Medium',\n",
       "       'Medium', 'Medium', 'Medium', 'Medium', 'Medium', 'Medium',\n",
       "       'Medium', 'Medium', 'Medium', 'High', 'High', 'High', 'High',\n",
       "       'High', 'High', 'High', 'High', 'High', 'High', 'High', 'High',\n",
       "       'High', 'High', 'High', 'High', 'High', 'High', 'High', 'High',\n",
       "       'High', 'High', 'High', 'High', 'High', 'High', 'High', 'High',\n",
       "       'High', 'High', 'High', 'High', 'High', 'High', 'High', 'High',\n",
       "       'High', 'High', 'High', 'High', 'High', 'High', 'High', 'High',\n",
       "       'High', 'High', 'High', 'High', 'High', 'High', 'High', 'High',\n",
       "       'High', 'High', 'High', 'High', 'High', 'High', 'High', 'High',\n",
       "       'High', 'High', 'High', 'High', 'High', 'High', 'High', 'High',\n",
       "       'High', 'High', 'High', 'High', 'High', 'High', 'High', 'High',\n",
       "       'High', 'High', 'High', 'High', 'High', 'High', 'High', 'High',\n",
       "       'High', 'High', 'High', 'High', 'High', 'High', 'High', 'High',\n",
       "       'High', 'High', 'High', 'High', 'High', 'High', 'High', 'High',\n",
       "       'High', 'High', 'High', 'High', 'High', 'High', 'High', 'High',\n",
       "       'High', 'High', 'High', 'High', 'High', 'High', 'High', 'High',\n",
       "       'High', 'High', 'High', 'High', 'High', 'High', 'High', 'High',\n",
       "       'High', 'High', 'High', 'High', 'High', 'High', 'High', 'High',\n",
       "       'High', 'High', 'High', 'High', 'High', 'High', 'High', 'High',\n",
       "       'High', 'High', 'High', 'High', 'High', 'High', 'High', 'High',\n",
       "       'High', 'High', 'High', 'High', 'High', 'High', 'High', 'High',\n",
       "       'High', 'High', 'High', 'High', 'High', 'High', 'High', 'High',\n",
       "       'High', 'High', 'High'], dtype=object)"
      ]
     },
     "execution_count": 1248,
     "metadata": {},
     "output_type": "execute_result"
    }
   ],
   "source": [
    "y_true"
   ]
  },
  {
   "cell_type": "markdown",
   "id": "111fbc56-d3cf-47a0-a233-43537a9296aa",
   "metadata": {},
   "source": [
    "Membuat Model & Training"
   ]
  },
  {
   "cell_type": "code",
   "execution_count": 1250,
   "id": "a2eaa0d9-5044-46bb-8952-1f84b50fa367",
   "metadata": {},
   "outputs": [],
   "source": [
    "model = GaussianNB()"
   ]
  },
  {
   "cell_type": "markdown",
   "id": "4df9071c-f77d-4c17-aeea-c33cd0035e6c",
   "metadata": {},
   "source": [
    "Cross Validation"
   ]
  },
  {
   "cell_type": "code",
   "execution_count": 1252,
   "id": "1a9521d5-9b1a-4f2a-ac64-e5f8fdb5f423",
   "metadata": {},
   "outputs": [],
   "source": [
    "cv = StratifiedKFold(n_splits=2, shuffle=True, random_state=3)"
   ]
  },
  {
   "cell_type": "markdown",
   "id": "9a80d679-1454-4b98-8a7a-7cdd99973d1b",
   "metadata": {},
   "source": [
    "Testing Model"
   ]
  },
  {
   "cell_type": "code",
   "execution_count": 1254,
   "id": "69c9df3f-e8a7-40a0-a972-92ab3d9f8810",
   "metadata": {},
   "outputs": [
    {
     "data": {
      "text/plain": [
       "array(['Low', 'Low', 'Low', 'Low', 'Low', 'Low', 'Low', 'Low', 'Low',\n",
       "       'Low', 'Low', 'Low', 'Low', 'Low', 'Low', 'Low', 'Low', 'Low',\n",
       "       'Low', 'Low', 'Low', 'Low', 'Low', 'Low', 'Low', 'Low', 'Low',\n",
       "       'Low', 'Low', 'Low', 'Low', 'Low', 'Low', 'Low', 'Low', 'Low',\n",
       "       'Low', 'Low', 'Low', 'Low', 'Low', 'Low', 'Low', 'Low', 'Low',\n",
       "       'Low', 'Low', 'Low', 'Low', 'Low', 'Low', 'Low', 'Low', 'Low',\n",
       "       'Low', 'Low', 'Low', 'Low', 'Low', 'Low', 'Low', 'Low', 'Low',\n",
       "       'Low', 'Low', 'Low', 'Low', 'Low', 'Low', 'Low', 'Low', 'Low',\n",
       "       'Low', 'Low', 'Low', 'Low', 'Low', 'Low', 'Low', 'Low', 'Low',\n",
       "       'Low', 'Low', 'Low', 'Low', 'Low', 'Low', 'Low', 'Low', 'Low',\n",
       "       'Low', 'Low', 'Low', 'Low', 'Low', 'Low', 'Low', 'Low', 'Low',\n",
       "       'Low', 'Low', 'Low', 'Low', 'Low', 'Low', 'Low', 'Low', 'Low',\n",
       "       'Low', 'Low', 'Low', 'Low', 'Low', 'Low', 'Low', 'Low', 'Low',\n",
       "       'Low', 'Low', 'Low', 'Low', 'Low', 'Low', 'Low', 'Low', 'Low',\n",
       "       'Low', 'Low', 'Low', 'Low', 'Low', 'Low', 'Low', 'Low', 'Low',\n",
       "       'Low', 'Low', 'Low', 'Low', 'Low', 'Low', 'Low', 'Low', 'Low',\n",
       "       'Low', 'Low', 'Low', 'Low', 'Low', 'Low', 'Low', 'Low', 'Low',\n",
       "       'Low', 'Low', 'Low', 'Low', 'Low', 'Low', 'Low', 'Low', 'Low',\n",
       "       'Low', 'Low', 'Low', 'Low', 'Low', 'Low', 'Low', 'Low', 'Low',\n",
       "       'Low', 'Low', 'Low', 'Low', 'Low', 'Low', 'Low', 'Low', 'Low',\n",
       "       'Low', 'Low', 'Low', 'Low', 'Low', 'Low', 'Low', 'Low', 'Low',\n",
       "       'Low', 'Low', 'Low', 'Low', 'Low', 'Low', 'Low', 'Low', 'Low',\n",
       "       'Low', 'Low', 'Low', 'Low', 'Low', 'Low', 'Low', 'Low', 'Medium',\n",
       "       'Medium', 'Medium', 'Medium', 'Medium', 'Medium', 'Medium',\n",
       "       'Medium', 'Medium', 'Medium', 'Medium', 'Medium', 'Medium',\n",
       "       'Medium', 'Medium', 'Medium', 'Medium', 'Medium', 'Medium',\n",
       "       'Medium', 'Medium', 'Medium', 'Medium', 'Medium', 'Medium',\n",
       "       'Medium', 'Medium', 'Medium', 'Medium', 'Medium', 'Medium',\n",
       "       'Medium', 'Medium', 'Medium', 'Medium', 'Medium', 'Medium',\n",
       "       'Medium', 'Medium', 'Medium', 'Medium', 'Medium', 'Medium',\n",
       "       'Medium', 'Medium', 'Medium', 'Medium', 'Medium', 'Medium',\n",
       "       'Medium', 'Medium', 'Medium', 'Medium', 'Medium', 'Medium',\n",
       "       'Medium', 'Medium', 'Medium', 'Medium', 'Medium', 'Medium',\n",
       "       'Medium', 'Medium', 'Medium', 'Medium', 'Medium', 'Medium',\n",
       "       'Medium', 'Medium', 'Medium', 'Medium', 'Medium', 'Medium',\n",
       "       'Medium', 'Medium', 'Medium', 'Medium', 'Medium', 'Medium',\n",
       "       'Medium', 'Medium', 'Medium', 'Medium', 'Medium', 'Medium',\n",
       "       'Medium', 'Medium', 'Medium', 'Medium', 'Medium', 'Medium',\n",
       "       'Medium', 'Medium', 'Medium', 'Medium', 'Medium', 'Medium',\n",
       "       'Medium', 'Medium', 'Medium', 'Medium', 'Medium', 'Medium',\n",
       "       'Medium', 'Medium', 'Medium', 'Medium', 'Medium', 'Medium',\n",
       "       'Medium', 'Medium', 'Medium', 'Medium', 'Medium', 'Medium',\n",
       "       'Medium', 'Medium', 'Medium', 'Medium', 'Medium', 'Medium',\n",
       "       'Medium', 'Medium', 'Medium', 'Medium', 'Medium', 'Medium',\n",
       "       'Medium', 'Medium', 'Medium', 'Medium', 'Medium', 'Medium',\n",
       "       'Medium', 'Medium', 'Medium', 'Medium', 'Medium', 'Medium',\n",
       "       'Medium', 'Medium', 'Medium', 'Medium', 'Medium', 'Medium',\n",
       "       'Medium', 'Medium', 'Medium', 'Medium', 'Medium', 'Medium',\n",
       "       'Medium', 'Medium', 'Medium', 'Medium', 'Medium', 'Medium',\n",
       "       'Medium', 'Medium', 'Medium', 'Medium', 'Medium', 'Medium',\n",
       "       'Medium', 'Medium', 'Medium', 'Medium', 'Medium', 'Medium',\n",
       "       'Medium', 'Medium', 'Medium', 'Medium', 'Medium', 'Medium',\n",
       "       'Medium', 'Medium', 'Medium', 'Medium', 'Medium', 'Medium',\n",
       "       'Medium', 'Medium', 'Medium', 'Medium', 'Medium', 'Medium',\n",
       "       'Medium', 'Medium', 'Medium', 'Medium', 'Medium', 'Medium',\n",
       "       'Medium', 'Medium', 'Medium', 'Medium', 'Medium', 'High', 'High',\n",
       "       'High', 'High', 'High', 'High', 'High', 'High', 'High', 'High',\n",
       "       'High', 'High', 'High', 'High', 'High', 'High', 'High', 'High',\n",
       "       'High', 'High', 'High', 'High', 'High', 'High', 'High', 'High',\n",
       "       'High', 'High', 'High', 'High', 'High', 'High', 'High', 'High',\n",
       "       'High', 'High', 'High', 'High', 'High', 'High', 'High', 'High',\n",
       "       'High', 'High', 'High', 'High', 'High', 'High', 'High', 'High',\n",
       "       'High', 'High', 'High', 'High', 'High', 'High', 'High', 'High',\n",
       "       'High', 'High', 'High', 'High', 'High', 'High', 'High', 'High',\n",
       "       'High', 'High', 'High', 'High', 'High', 'High', 'High', 'High',\n",
       "       'High', 'High', 'High', 'High', 'High', 'High', 'High', 'High',\n",
       "       'High', 'High', 'High', 'High', 'High', 'High', 'High', 'High',\n",
       "       'High', 'High', 'High', 'High', 'High', 'High', 'High', 'High',\n",
       "       'High', 'High', 'High', 'High', 'High', 'High', 'High', 'High',\n",
       "       'High', 'High', 'High', 'High', 'High', 'High', 'High', 'High',\n",
       "       'High', 'High', 'High', 'High', 'High', 'High', 'High', 'High',\n",
       "       'High', 'High', 'High', 'High', 'High', 'High', 'High', 'High',\n",
       "       'High', 'High', 'High', 'High', 'High', 'High', 'High', 'High',\n",
       "       'High', 'High', 'High', 'High', 'High', 'High', 'High', 'High',\n",
       "       'High', 'High', 'High', 'High', 'High', 'High', 'High', 'High',\n",
       "       'High', 'High', 'High', 'High', 'High', 'High', 'High', 'High',\n",
       "       'High', 'High', 'High'], dtype='<U6')"
      ]
     },
     "execution_count": 1254,
     "metadata": {},
     "output_type": "execute_result"
    }
   ],
   "source": [
    "y_predict = cross_val_predict(model, x,y, cv=cv)\n",
    "y_predict"
   ]
  },
  {
   "cell_type": "markdown",
   "id": "96b480b3-e357-4694-a5ef-a91d6e5cf1ee",
   "metadata": {},
   "source": [
    "Evaluasi Model"
   ]
  },
  {
   "cell_type": "code",
   "execution_count": 1256,
   "id": "efecaffb-acf4-4811-a597-c95da2333c5a",
   "metadata": {},
   "outputs": [
    {
     "name": "stdout",
     "output_type": "stream",
     "text": [
      "Tingkat Akurasi: 99 persen\n",
      "              precision    recall  f1-score   support\n",
      "\n",
      "         Low       1.00      1.00      1.00       206\n",
      "      Medium       0.99      1.00      0.99       196\n",
      "        High       1.00      0.99      0.99       167\n",
      "\n",
      "    accuracy                           1.00       569\n",
      "   macro avg       1.00      1.00      1.00       569\n",
      "weighted avg       1.00      1.00      1.00       569\n",
      "\n"
     ]
    },
    {
     "data": {
      "text/plain": [
       "<sklearn.metrics._plot.confusion_matrix.ConfusionMatrixDisplay at 0x231826e5d60>"
      ]
     },
     "execution_count": 1256,
     "metadata": {},
     "output_type": "execute_result"
    },
    {
     "data": {
      "image/png": "[encoded data removed]",
      "text/plain": [
       "<Figure size 640x480 with 2 Axes>"
      ]
     },
     "metadata": {},
     "output_type": "display_data"
    }
   ],
   "source": [
    "labels = ['Low', 'Medium', 'High']\n",
    "akurasi = accuracy_score(y_true,y_predict)\n",
    "print('Tingkat Akurasi: %d persen'%(akurasi*100))\n",
    "print(metrics.classification_report(y_true,y_predict, labels=labels, target_names=labels))\n",
    "ConfusionMatrixDisplay.from_predictions(y_true,y_predict, labels=labels)"
   ]
  }
 ],
 "metadata": {
  "kernelspec": {
   "display_name": "Python 3 (ipykernel)",
   "language": "python",
   "name": "python3"
  },
  "language_info": {
   "codemirror_mode": {
    "name": "ipython",
    "version": 3
   },
   "file_extension": ".py",
   "mimetype": "text/x-python",
   "name": "python",
   "nbconvert_exporter": "python",
   "pygments_lexer": "ipython3",
   "version": "3.12.4"
  }
 },
 "nbformat": 4,
 "nbformat_minor": 5
}
